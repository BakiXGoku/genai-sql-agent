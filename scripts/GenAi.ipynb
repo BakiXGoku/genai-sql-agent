{
 "cells": [
  {
   "cell_type": "code",
   "execution_count": 1,
   "id": "c31f3273",
   "metadata": {},
   "outputs": [],
   "source": [
    "import pandas as pd"
   ]
  },
  {
   "cell_type": "code",
   "execution_count": 20,
   "id": "53b5a520",
   "metadata": {},
   "outputs": [
    {
     "data": {
      "text/plain": [
       "(4381, 4)"
      ]
     },
     "execution_count": 20,
     "metadata": {},
     "output_type": "execute_result"
    }
   ],
   "source": [
    "pl_eligibility = pd.read_csv('Product_Level_eligibility.csv')\n",
    "pl_eligibility['message'].fillna('No comment', inplace=True)\n",
    "pl_eligibility.shape"
   ]
  },
  {
   "cell_type": "code",
   "execution_count": 10,
   "id": "a63ef7cf",
   "metadata": {},
   "outputs": [
    {
     "data": {
      "text/plain": [
       "(3696, 7)"
      ]
     },
     "execution_count": 10,
     "metadata": {},
     "output_type": "execute_result"
    }
   ],
   "source": [
    "pl_ad_sales = pd.read_csv('Product_level_ad_sales.csv')\n",
    "pl_ad_sales.dropna(inplace=True)\n",
    "pl_ad_sales.head(7)\n",
    "pl_ad_sales.shape\n"
   ]
  },
  {
   "cell_type": "code",
   "execution_count": 15,
   "id": "f499839d",
   "metadata": {},
   "outputs": [
    {
     "data": {
      "text/plain": [
       "(702, 4)"
      ]
     },
     "execution_count": 15,
     "metadata": {},
     "output_type": "execute_result"
    }
   ],
   "source": [
    "pl_total_sales = pd.read_csv('Product_level_total_sales.csv')\n",
    "pl_total_sales.dropna(inplace=True)\n",
    "pl_total_sales.shape"
   ]
  },
  {
   "cell_type": "code",
   "execution_count": 21,
   "id": "8f62c83a",
   "metadata": {},
   "outputs": [
    {
     "name": "stdout",
     "output_type": "stream",
     "text": [
      "✅ All tables loaded successfully into ecommerce.db\n",
      "Tables in DB: [('pl_eligibility',), ('pl_ad_sales',), ('pl_total_sales',)]\n",
      "('2025-06-04 8:50:07', 29, 0, \"This product's cost to Amazon does not allow us to meet customers’ pricing expectations. Consider reducing the cost. It may take a few weeks for your product to become eligible to advertise after you reduce the cost.\")\n",
      "('2025-06-04 8:50:07', 270, 1, 'No comment')\n",
      "('2025-06-04 8:50:07', 31, 1, 'No comment')\n",
      "('2025-06-04 8:50:07', 26, 1, 'No comment')\n",
      "('2025-06-04 8:50:07', 25, 1, 'No comment')\n"
     ]
    }
   ],
   "source": [
    "import sqlite3\n",
    "\n",
    "# 1️⃣ Connect to SQLite (creates ecommerce.db if it doesn't exist)\n",
    "conn = sqlite3.connect('ecommerce.db')\n",
    "\n",
    "# 2️⃣ Load tables into the database\n",
    "pl_eligibility.to_sql('pl_eligibility', conn, if_exists='replace', index=False)\n",
    "pl_ad_sales.to_sql('pl_ad_sales', conn, if_exists='replace', index=False)\n",
    "pl_total_sales.to_sql('pl_total_sales', conn, if_exists='replace', index=False)\n",
    "\n",
    "print(\"✅ All tables loaded successfully into ecommerce.db\")\n",
    "\n",
    "# 3️⃣ Optional: verify tables\n",
    "cursor = conn.cursor()\n",
    "cursor.execute(\"SELECT name FROM sqlite_master WHERE type='table';\")\n",
    "print(\"Tables in DB:\", cursor.fetchall())\n",
    "\n",
    "# 4️⃣ Optional: preview a table\n",
    "result = cursor.execute(\"SELECT * FROM pl_eligibility LIMIT 5;\")\n",
    "for row in result:\n",
    "    print(row)\n",
    "\n",
    "# Close connection when done\n",
    "conn.close()\n"
   ]
  },
  {
   "cell_type": "code",
   "execution_count": null,
   "id": "7f8c8cbe",
   "metadata": {},
   "outputs": [],
   "source": []
  },
  {
   "cell_type": "code",
   "execution_count": null,
   "id": "07aa6fc0",
   "metadata": {},
   "outputs": [],
   "source": []
  },
  {
   "cell_type": "code",
   "execution_count": null,
   "id": "231762ce",
   "metadata": {},
   "outputs": [],
   "source": []
  }
 ],
 "metadata": {
  "kernelspec": {
   "display_name": "Python 3",
   "language": "python",
   "name": "python3"
  },
  "language_info": {
   "codemirror_mode": {
    "name": "ipython",
    "version": 3
   },
   "file_extension": ".py",
   "mimetype": "text/x-python",
   "name": "python",
   "nbconvert_exporter": "python",
   "pygments_lexer": "ipython3",
   "version": "3.10.2"
  }
 },
 "nbformat": 4,
 "nbformat_minor": 5
}
